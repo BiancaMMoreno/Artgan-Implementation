{
  "nbformat": 4,
  "nbformat_minor": 0,
  "metadata": {
    "colab": {
      "name": "INF554_LogisticRegression.ipynb",
      "provenance": [],
      "collapsed_sections": [
        "XIdTk_jxbubN",
        "xsiFwgleb31M",
        "_g44QiSmkc4b",
        "_cA6xr3enC2H",
        "Wf_aD7LfpVls"
      ],
      "include_colab_link": true
    },
    "kernelspec": {
      "name": "python3",
      "display_name": "Python 3"
    }
  },
  "cells": [
    {
      "cell_type": "markdown",
      "metadata": {
        "id": "view-in-github",
        "colab_type": "text"
      },
      "source": [
        "<a href=\"https://colab.research.google.com/github/BiancaMMoreno/Artgan-Implementation/blob/master/INF554_LogisticRegression.ipynb\" target=\"_parent\"><img src=\"https://colab.research.google.com/assets/colab-badge.svg\" alt=\"Open In Colab\"/></a>"
      ]
    },
    {
      "cell_type": "code",
      "metadata": {
        "id": "G_tLj0okZ5Ym",
        "colab": {
          "base_uri": "https://localhost:8080/"
        },
        "outputId": "9a8e9b01-e59e-404e-f1ef-7172855d3a5b"
      },
      "source": [
        "# Import and save into google drive\n",
        "from google.colab import drive\n",
        "drive.mount('/content/drive')\n",
        "%cd 'drive/My Drive/INF554/project'\n",
        "%ls"
      ],
      "execution_count": 25,
      "outputs": [
        {
          "output_type": "stream",
          "text": [
            "Drive already mounted at /content/drive; to attempt to forcibly remount, call drive.mount(\"/content/drive\", force_remount=True).\n",
            "[Errno 2] No such file or directory: 'drive/My Drive/INF554/project'\n",
            "/content/drive/My Drive/INF554/project\n",
            "baseline.py               \u001b[0m\u001b[01;34mdata\u001b[0m/              hist_age.png\n",
            "constant_predictions.txt  dummy_baseline.py  mean_predictions.txt\n"
          ],
          "name": "stdout"
        }
      ]
    },
    {
      "cell_type": "markdown",
      "metadata": {
        "id": "P7_SpzyrbGgQ"
      },
      "source": [
        "## Import libraries\n"
      ]
    },
    {
      "cell_type": "code",
      "metadata": {
        "id": "HEJPqz_dax5U"
      },
      "source": [
        "import os\n",
        "import numpy as np\n",
        "import pandas as pd\n",
        "from datetime import datetime\n",
        "import matplotlib.pyplot as plt\n",
        "from tqdm.notebook import * "
      ],
      "execution_count": 26,
      "outputs": []
    },
    {
      "cell_type": "markdown",
      "metadata": {
        "id": "gataq_CGbJSl"
      },
      "source": [
        "## Open dataset"
      ]
    },
    {
      "cell_type": "code",
      "metadata": {
        "id": "hbENyRBJaGRg"
      },
      "source": [
        "data_path = \"data\" # main path to our dataset\n",
        "train_path = os.path.join(data_path, 'train.csv')\n",
        "eval_path = os.path.join(data_path, 'evaluation.csv')"
      ],
      "execution_count": 27,
      "outputs": []
    },
    {
      "cell_type": "code",
      "metadata": {
        "id": "66vszfhNaIA3"
      },
      "source": [
        "train_df = pd.read_csv(train_path, index_col='id')\n",
        "eval_df = pd.read_csv(eval_path, index_col='id')"
      ],
      "execution_count": 28,
      "outputs": []
    },
    {
      "cell_type": "markdown",
      "metadata": {
        "id": "XIdTk_jxbubN"
      },
      "source": [
        "## Data visualization"
      ]
    },
    {
      "cell_type": "code",
      "metadata": {
        "id": "ImZLEOOAbUWe",
        "colab": {
          "base_uri": "https://localhost:8080/",
          "height": 371
        },
        "outputId": "2d93220e-eb78-4ade-a49d-c510ff724452"
      },
      "source": [
        "train_df.head()"
      ],
      "execution_count": 5,
      "outputs": [
        {
          "output_type": "execute_result",
          "data": {
            "text/html": [
              "<div>\n",
              "<style scoped>\n",
              "    .dataframe tbody tr th:only-of-type {\n",
              "        vertical-align: middle;\n",
              "    }\n",
              "\n",
              "    .dataframe tbody tr th {\n",
              "        vertical-align: top;\n",
              "    }\n",
              "\n",
              "    .dataframe thead th {\n",
              "        text-align: right;\n",
              "    }\n",
              "</style>\n",
              "<table border=\"1\" class=\"dataframe\">\n",
              "  <thead>\n",
              "    <tr style=\"text-align: right;\">\n",
              "      <th></th>\n",
              "      <th>timestamp</th>\n",
              "      <th>retweet_count</th>\n",
              "      <th>user_verified</th>\n",
              "      <th>user_statuses_count</th>\n",
              "      <th>user_followers_count</th>\n",
              "      <th>user_friends_count</th>\n",
              "      <th>user_mentions</th>\n",
              "      <th>urls</th>\n",
              "      <th>hashtags</th>\n",
              "      <th>text</th>\n",
              "    </tr>\n",
              "    <tr>\n",
              "      <th>id</th>\n",
              "      <th></th>\n",
              "      <th></th>\n",
              "      <th></th>\n",
              "      <th></th>\n",
              "      <th></th>\n",
              "      <th></th>\n",
              "      <th></th>\n",
              "      <th></th>\n",
              "      <th></th>\n",
              "      <th></th>\n",
              "    </tr>\n",
              "  </thead>\n",
              "  <tbody>\n",
              "    <tr>\n",
              "      <th>0</th>\n",
              "      <td>1588696955143</td>\n",
              "      <td>0</td>\n",
              "      <td>False</td>\n",
              "      <td>68460</td>\n",
              "      <td>1101</td>\n",
              "      <td>1226</td>\n",
              "      <td>NaN</td>\n",
              "      <td>NaN</td>\n",
              "      <td>NaN</td>\n",
              "      <td>Smh I give up</td>\n",
              "    </tr>\n",
              "    <tr>\n",
              "      <th>1</th>\n",
              "      <td>1588464948124</td>\n",
              "      <td>0</td>\n",
              "      <td>False</td>\n",
              "      <td>309</td>\n",
              "      <td>51</td>\n",
              "      <td>202</td>\n",
              "      <td>NaN</td>\n",
              "      <td>NaN</td>\n",
              "      <td>NaN</td>\n",
              "      <td>Most of us are Human Beings, but I think you m...</td>\n",
              "    </tr>\n",
              "    <tr>\n",
              "      <th>2</th>\n",
              "      <td>1588634673360</td>\n",
              "      <td>0</td>\n",
              "      <td>False</td>\n",
              "      <td>3241</td>\n",
              "      <td>1675</td>\n",
              "      <td>2325</td>\n",
              "      <td>NaN</td>\n",
              "      <td>NaN</td>\n",
              "      <td>NaN</td>\n",
              "      <td>Old dirty tricks Trump, at it again...like we ...</td>\n",
              "    </tr>\n",
              "    <tr>\n",
              "      <th>3</th>\n",
              "      <td>1588433158672</td>\n",
              "      <td>0</td>\n",
              "      <td>False</td>\n",
              "      <td>32327</td>\n",
              "      <td>667</td>\n",
              "      <td>304</td>\n",
              "      <td>NaN</td>\n",
              "      <td>NaN</td>\n",
              "      <td>NaN</td>\n",
              "      <td>Seriously..... I worked 86 hours my last check...</td>\n",
              "    </tr>\n",
              "    <tr>\n",
              "      <th>4</th>\n",
              "      <td>1588582751599</td>\n",
              "      <td>0</td>\n",
              "      <td>False</td>\n",
              "      <td>581</td>\n",
              "      <td>42</td>\n",
              "      <td>127</td>\n",
              "      <td>NaN</td>\n",
              "      <td>NaN</td>\n",
              "      <td>NaN</td>\n",
              "      <td>May ALMIGHTY ALLAH have mercy on us all. Only ...</td>\n",
              "    </tr>\n",
              "  </tbody>\n",
              "</table>\n",
              "</div>"
            ],
            "text/plain": [
              "        timestamp  ...                                               text\n",
              "id                 ...                                                   \n",
              "0   1588696955143  ...                                      Smh I give up\n",
              "1   1588464948124  ...  Most of us are Human Beings, but I think you m...\n",
              "2   1588634673360  ...  Old dirty tricks Trump, at it again...like we ...\n",
              "3   1588433158672  ...  Seriously..... I worked 86 hours my last check...\n",
              "4   1588582751599  ...  May ALMIGHTY ALLAH have mercy on us all. Only ...\n",
              "\n",
              "[5 rows x 10 columns]"
            ]
          },
          "metadata": {
            "tags": []
          },
          "execution_count": 5
        }
      ]
    },
    {
      "cell_type": "markdown",
      "metadata": {
        "id": "LUX-we-go_0u"
      },
      "source": [
        "##Logistic Regression\n",
        "Following the procedure of https://towardsdatascience.com/building-a-logistic-regression-in-python-step-by-step-becd4d56c9c8"
      ]
    },
    {
      "cell_type": "markdown",
      "metadata": {
        "id": "c7FohC8WpMoi"
      },
      "source": [
        "First we will prepare our dataset to say only if the person has 0 retweets or more (1)"
      ]
    },
    {
      "cell_type": "code",
      "metadata": {
        "id": "gnZ1yyvZpKfc"
      },
      "source": [
        "def retweet_count_01(df):\n",
        "  if 'retweet_count' not in df:\n",
        "    raise Exception(\"'retweet_count' column not found in the dataframe\")\n",
        "  df = df.copy()\n",
        "  df[\"retweet_count\"] = df.apply(lambda x: 0 if x[\"retweet_count\"]  ==0 else 1, axis=1)\n",
        "  return df \n",
        "  \n",
        "train_lr = retweet_count_01(train_df)"
      ],
      "execution_count": 29,
      "outputs": []
    },
    {
      "cell_type": "markdown",
      "metadata": {
        "id": "CjUruiYSrI5O"
      },
      "source": [
        "Get some packages we will need"
      ]
    },
    {
      "cell_type": "code",
      "metadata": {
        "id": "Oob7EzmHqpGb"
      },
      "source": [
        "import pandas as pd\n",
        "import numpy as np\n",
        "from sklearn import preprocessing\n",
        "import matplotlib.pyplot as plt \n",
        "plt.rc(\"font\", size=14)\n",
        "from sklearn.linear_model import LogisticRegression\n",
        "from sklearn.model_selection import train_test_split\n",
        "import seaborn as sns\n",
        "sns.set(style=\"white\")\n",
        "sns.set(style=\"whitegrid\", color_codes=True)"
      ],
      "execution_count": 30,
      "outputs": []
    },
    {
      "cell_type": "markdown",
      "metadata": {
        "id": "07tE1e-jrMD6"
      },
      "source": [
        "To proceed we also need to use the changes already implemented by Iago on `timestamp`, `user_mentions`, `urls` and `hashtags`. For the moment I won't normalize the vectors. "
      ]
    },
    {
      "cell_type": "markdown",
      "metadata": {
        "id": "xsiFwgleb31M"
      },
      "source": [
        "### timestamp\n",
        "\n",
        "For this column, we split into 24 columns based on intervals of one hour per day equivalent to the time of tweets. These columns will have boolean values (0 or 1), being 1 if the tweet was posted in that interval, 0 if not."
      ]
    },
    {
      "cell_type": "code",
      "metadata": {
        "id": "74SSKIJgbqe2"
      },
      "source": [
        "def transform_timestamp(df):\n",
        "  if 'timestamp' not in df:\n",
        "    raise Exception(\"'timestamp' column not found in the dataframe\")\n",
        "  # we must divide by 1000 to transform into ms\n",
        "  df['time'] = df.apply(lambda x: datetime.fromtimestamp(x['timestamp']/ 1000).hour, axis=1)\n",
        "  new_c = {i: '{} - {}'.format(i, i + 1) for i in range(24)}\n",
        "  dummies = pd.get_dummies(df['time'])\n",
        "  dummies = dummies.rename(columns=new_c)\n",
        "  df = df.drop(['timestamp', 'time'], axis=1)\n",
        "  return pd.concat([df, dummies], axis=1, join='inner')\n",
        "train_lr = transform_timestamp(train_lr)\n",
        "eval_df = transform_timestamp(eval_df)"
      ],
      "execution_count": 31,
      "outputs": []
    },
    {
      "cell_type": "markdown",
      "metadata": {
        "id": "_g44QiSmkc4b"
      },
      "source": [
        "### user_mentions\n",
        "\n",
        "Count the number of mentions and normalize our values"
      ]
    },
    {
      "cell_type": "code",
      "metadata": {
        "id": "NWD-puqekc_C"
      },
      "source": [
        "def count_and_normalize(df, column, mean=None, std=None):\n",
        "  if column not in df:\n",
        "    raise Exception(\"'{}' column not found in the dataframe\".format(column))\n",
        "  df = df.copy()\n",
        "  df[column].fillna(\"\", inplace=True)\n",
        "  df[column] = df.apply(lambda x: 0 if x[column] == \"\" else len(x[column].split(\",\")), axis=1)\n",
        "  return df, mean, std\n",
        "  # return normalize(df, column, mean=mean, std=std)\n",
        "train_lr, mean, std = count_and_normalize(train_lr, 'user_mentions')\n",
        "eval_df, _, _ = count_and_normalize(eval_df, 'user_mentions', mean, std)"
      ],
      "execution_count": 32,
      "outputs": []
    },
    {
      "cell_type": "markdown",
      "metadata": {
        "id": "_cA6xr3enC2H"
      },
      "source": [
        "### urls\n",
        "\n",
        "Transform into a boolean value (0 if there isn't a url, 1 if there is)"
      ]
    },
    {
      "cell_type": "code",
      "metadata": {
        "id": "4UDclb3KnC61"
      },
      "source": [
        "def transform_urls(df):\n",
        "  if 'urls' not in df:\n",
        "    raise Exception(\"'{}' column not found in the dataframe\".format('urls'))\n",
        "  df = df.copy()\n",
        "  df[\"urls\"] = df.apply(lambda x: 0 if x[\"urls\"] != x[\"urls\"] else 1, axis=1)\n",
        "  return df \n",
        "train_lr = transform_urls(train_lr)\n",
        "eval_df = transform_urls(eval_df)"
      ],
      "execution_count": 33,
      "outputs": []
    },
    {
      "cell_type": "markdown",
      "metadata": {
        "id": "Wf_aD7LfpVls"
      },
      "source": [
        "### hashtags\n",
        "\n",
        "Count the number of hashtags and normalize our values"
      ]
    },
    {
      "cell_type": "code",
      "metadata": {
        "id": "1sC1oX6jpVqu"
      },
      "source": [
        "train_lr, mean, std = count_and_normalize(train_lr, 'hashtags')\n",
        "eval_df, _, _ = count_and_normalize(eval_df, 'hashtags', mean, std)"
      ],
      "execution_count": 34,
      "outputs": []
    },
    {
      "cell_type": "markdown",
      "metadata": {
        "id": "Q-6f2WxuuBdF"
      },
      "source": [
        "Drop the text column for this model"
      ]
    },
    {
      "cell_type": "code",
      "metadata": {
        "id": "i0UCXv-0rLQn"
      },
      "source": [
        "train_lr = train_lr.drop(['text'], axis=1)\n",
        "eval_df = eval_df.drop(['text'], axis=1)"
      ],
      "execution_count": 35,
      "outputs": []
    },
    {
      "cell_type": "markdown",
      "metadata": {
        "id": "rxJWBU6luLev"
      },
      "source": [
        "### Data exploration"
      ]
    },
    {
      "cell_type": "code",
      "metadata": {
        "colab": {
          "base_uri": "https://localhost:8080/"
        },
        "id": "-sqJAysBuI5G",
        "outputId": "f2ef9913-554e-4f35-fc42-77d12e882336"
      },
      "source": [
        "train_lr['retweet_count'].value_counts()"
      ],
      "execution_count": 36,
      "outputs": [
        {
          "output_type": "execute_result",
          "data": {
            "text/plain": [
              "0    422803\n",
              "1    242974\n",
              "Name: retweet_count, dtype: int64"
            ]
          },
          "metadata": {
            "tags": []
          },
          "execution_count": 36
        }
      ]
    },
    {
      "cell_type": "code",
      "metadata": {
        "colab": {
          "base_uri": "https://localhost:8080/",
          "height": 285
        },
        "id": "FcWLIdgdugEU",
        "outputId": "88881e05-0d97-4705-b390-6c71e140c444"
      },
      "source": [
        "sns.countplot(x='retweet_count',data=train_lr,palette='hls')\n",
        "plt.show()\n",
        "#plt.savefig('retweetcountplot')"
      ],
      "execution_count": 37,
      "outputs": [
        {
          "output_type": "display_data",
          "data": {
            "image/png": "[encoded data removed]",
            "text/plain": [
              "<Figure size 432x288 with 1 Axes>"
            ]
          },
          "metadata": {
            "tags": []
          }
        }
      ]
    },
    {
      "cell_type": "code",
      "metadata": {
        "colab": {
          "base_uri": "https://localhost:8080/"
        },
        "id": "3hhK631NvSHL",
        "outputId": "21189b7c-59db-434c-f43d-6d878463ca34"
      },
      "source": [
        "count_no_sub = len(train_lr[train_lr['retweet_count']==0])\n",
        "count_sub = len(train_lr[train_lr['retweet_count']==1])\n",
        "pct_of_no_sub = count_no_sub/(count_no_sub+count_sub)\n",
        "print(\"percentage of no retweet is\", pct_of_no_sub*100)\n",
        "pct_of_sub = count_sub/(count_no_sub+count_sub)\n",
        "print(\"percentage of at least one retweet\", pct_of_sub*100)"
      ],
      "execution_count": 17,
      "outputs": [
        {
          "output_type": "stream",
          "text": [
            "percentage of no retweet is 63.505197686312385\n",
            "percentage of at least one retweet 36.49480231368762\n"
          ],
          "name": "stdout"
        }
      ]
    },
    {
      "cell_type": "code",
      "metadata": {
        "colab": {
          "base_uri": "https://localhost:8080/",
          "height": 162
        },
        "id": "qs66WfFVwBPX",
        "outputId": "ec54fbf1-9ffa-4b21-c3b7-671bbdf8f697"
      },
      "source": [
        "train_lr.groupby('retweet_count').mean()"
      ],
      "execution_count": 18,
      "outputs": [
        {
          "output_type": "execute_result",
          "data": {
            "text/html": [
              "<div>\n",
              "<style scoped>\n",
              "    .dataframe tbody tr th:only-of-type {\n",
              "        vertical-align: middle;\n",
              "    }\n",
              "\n",
              "    .dataframe tbody tr th {\n",
              "        vertical-align: top;\n",
              "    }\n",
              "\n",
              "    .dataframe thead th {\n",
              "        text-align: right;\n",
              "    }\n",
              "</style>\n",
              "<table border=\"1\" class=\"dataframe\">\n",
              "  <thead>\n",
              "    <tr style=\"text-align: right;\">\n",
              "      <th></th>\n",
              "      <th>user_verified</th>\n",
              "      <th>user_statuses_count</th>\n",
              "      <th>user_followers_count</th>\n",
              "      <th>user_friends_count</th>\n",
              "      <th>user_mentions</th>\n",
              "      <th>urls</th>\n",
              "      <th>hashtags</th>\n",
              "      <th>0 - 1</th>\n",
              "      <th>1 - 2</th>\n",
              "      <th>2 - 3</th>\n",
              "      <th>3 - 4</th>\n",
              "      <th>4 - 5</th>\n",
              "      <th>5 - 6</th>\n",
              "      <th>6 - 7</th>\n",
              "      <th>7 - 8</th>\n",
              "      <th>8 - 9</th>\n",
              "      <th>9 - 10</th>\n",
              "      <th>10 - 11</th>\n",
              "      <th>11 - 12</th>\n",
              "      <th>12 - 13</th>\n",
              "      <th>13 - 14</th>\n",
              "      <th>14 - 15</th>\n",
              "      <th>15 - 16</th>\n",
              "      <th>16 - 17</th>\n",
              "      <th>17 - 18</th>\n",
              "      <th>18 - 19</th>\n",
              "      <th>19 - 20</th>\n",
              "      <th>20 - 21</th>\n",
              "      <th>21 - 22</th>\n",
              "      <th>22 - 23</th>\n",
              "      <th>23 - 24</th>\n",
              "    </tr>\n",
              "    <tr>\n",
              "      <th>retweet_count</th>\n",
              "      <th></th>\n",
              "      <th></th>\n",
              "      <th></th>\n",
              "      <th></th>\n",
              "      <th></th>\n",
              "      <th></th>\n",
              "      <th></th>\n",
              "      <th></th>\n",
              "      <th></th>\n",
              "      <th></th>\n",
              "      <th></th>\n",
              "      <th></th>\n",
              "      <th></th>\n",
              "      <th></th>\n",
              "      <th></th>\n",
              "      <th></th>\n",
              "      <th></th>\n",
              "      <th></th>\n",
              "      <th></th>\n",
              "      <th></th>\n",
              "      <th></th>\n",
              "      <th></th>\n",
              "      <th></th>\n",
              "      <th></th>\n",
              "      <th></th>\n",
              "      <th></th>\n",
              "      <th></th>\n",
              "      <th></th>\n",
              "      <th></th>\n",
              "      <th></th>\n",
              "      <th></th>\n",
              "    </tr>\n",
              "  </thead>\n",
              "  <tbody>\n",
              "    <tr>\n",
              "      <th>0</th>\n",
              "      <td>0.021637</td>\n",
              "      <td>32939.140042</td>\n",
              "      <td>6118.224076</td>\n",
              "      <td>1561.499812</td>\n",
              "      <td>0.00000</td>\n",
              "      <td>0.000000</td>\n",
              "      <td>0.000000</td>\n",
              "      <td>0.042736</td>\n",
              "      <td>0.040066</td>\n",
              "      <td>0.037637</td>\n",
              "      <td>0.035064</td>\n",
              "      <td>0.031071</td>\n",
              "      <td>0.027644</td>\n",
              "      <td>0.027303</td>\n",
              "      <td>0.027654</td>\n",
              "      <td>0.028744</td>\n",
              "      <td>0.029782</td>\n",
              "      <td>0.033330</td>\n",
              "      <td>0.038339</td>\n",
              "      <td>0.041875</td>\n",
              "      <td>0.045854</td>\n",
              "      <td>0.048060</td>\n",
              "      <td>0.048637</td>\n",
              "      <td>0.052485</td>\n",
              "      <td>0.051457</td>\n",
              "      <td>0.053562</td>\n",
              "      <td>0.050563</td>\n",
              "      <td>0.051137</td>\n",
              "      <td>0.049510</td>\n",
              "      <td>0.054318</td>\n",
              "      <td>0.053171</td>\n",
              "    </tr>\n",
              "    <tr>\n",
              "      <th>1</th>\n",
              "      <td>0.327591</td>\n",
              "      <td>56870.797143</td>\n",
              "      <td>627768.183106</td>\n",
              "      <td>4799.307728</td>\n",
              "      <td>0.35484</td>\n",
              "      <td>0.881082</td>\n",
              "      <td>0.526702</td>\n",
              "      <td>0.042017</td>\n",
              "      <td>0.041000</td>\n",
              "      <td>0.036403</td>\n",
              "      <td>0.033868</td>\n",
              "      <td>0.031682</td>\n",
              "      <td>0.031794</td>\n",
              "      <td>0.031258</td>\n",
              "      <td>0.033193</td>\n",
              "      <td>0.035292</td>\n",
              "      <td>0.032217</td>\n",
              "      <td>0.032045</td>\n",
              "      <td>0.036197</td>\n",
              "      <td>0.040037</td>\n",
              "      <td>0.045486</td>\n",
              "      <td>0.047746</td>\n",
              "      <td>0.049639</td>\n",
              "      <td>0.051137</td>\n",
              "      <td>0.051150</td>\n",
              "      <td>0.048141</td>\n",
              "      <td>0.045149</td>\n",
              "      <td>0.044832</td>\n",
              "      <td>0.042655</td>\n",
              "      <td>0.064900</td>\n",
              "      <td>0.052162</td>\n",
              "    </tr>\n",
              "  </tbody>\n",
              "</table>\n",
              "</div>"
            ],
            "text/plain": [
              "               user_verified  user_statuses_count  ...   22 - 23   23 - 24\n",
              "retweet_count                                      ...                    \n",
              "0                   0.021637         32939.140042  ...  0.054318  0.053171\n",
              "1                   0.327591         56870.797143  ...  0.064900  0.052162\n",
              "\n",
              "[2 rows x 31 columns]"
            ]
          },
          "metadata": {
            "tags": []
          },
          "execution_count": 18
        }
      ]
    },
    {
      "cell_type": "markdown",
      "metadata": {
        "id": "YhrbNhTPwx8n"
      },
      "source": [
        "The average of `user_verified`, `user_statuses_count`, `user_followers_count`, `user_friends_count`, `user_mentions`, `urls` and `hashtags` is bigger for people who have at least one retweet in comparision to people who have 0."
      ]
    },
    {
      "cell_type": "markdown",
      "metadata": {
        "id": "5G2f9rQQy-tp"
      },
      "source": [
        "### Over-Sampling using SMOTE"
      ]
    },
    {
      "cell_type": "markdown",
      "metadata": {
        "id": "Fqpbb1SM158-"
      },
      "source": [
        "Let's upsample the no retweets to get a balanced dataset. We will oversample only on the training data (of course). Still not sure how smote works :("
      ]
    },
    {
      "cell_type": "code",
      "metadata": {
        "colab": {
          "base_uri": "https://localhost:8080/"
        },
        "id": "zA7HoOrEzA2T",
        "outputId": "8d5abb83-c8aa-49b6-99ee-5d4617b50cc5"
      },
      "source": [
        "X = train_lr.loc[:, train_lr.columns != 'retweet_count']\n",
        "y = train_lr.loc[:, train_lr.columns == 'retweet_count']\n",
        "from imblearn.over_sampling import SMOTE\n",
        "os = SMOTE(random_state=0)\n",
        "X_train, X_test, y_train, y_test = train_test_split(X, y, test_size=0.3, random_state=0)\n",
        "columns = X_train.columns\n",
        "os_data_X,os_data_y=os.fit_sample(X_train, y_train)\n",
        "os_data_X = pd.DataFrame(data=os_data_X,columns=columns )\n",
        "os_data_y= pd.DataFrame(data=os_data_y,columns=['retweet_count'])\n",
        "# we can Check the numbers of our data\n",
        "print(\"length of oversampled data is \",len(os_data_X))\n",
        "print(\"Number of no retweets in oversampled data\",len(os_data_y[os_data_y['retweet_count']==0]))\n",
        "print(\"Number of at least one retweet\",len(os_data_y[os_data_y['retweet_count']==1]))\n",
        "print(\"Proportion of no retweets data in oversampled data is \",len(os_data_y[os_data_y['retweet_count']==0])/len(os_data_X))\n",
        "print(\"Proportion of at least one retweet data in oversampled data is \",len(os_data_y[os_data_y['retweet_count']==1])/len(os_data_X))"
      ],
      "execution_count": 19,
      "outputs": [
        {
          "output_type": "stream",
          "text": [
            "/usr/local/lib/python3.6/dist-packages/sklearn/externals/six.py:31: FutureWarning: The module is deprecated in version 0.21 and will be removed in version 0.23 since we've dropped support for Python 2.7. Please rely on the official version of six (https://pypi.org/project/six/).\n",
            "  \"(https://pypi.org/project/six/).\", FutureWarning)\n",
            "/usr/local/lib/python3.6/dist-packages/sklearn/utils/deprecation.py:144: FutureWarning: The sklearn.neighbors.base module is  deprecated in version 0.22 and will be removed in version 0.24. The corresponding classes / functions should instead be imported from sklearn.neighbors. Anything that cannot be imported from sklearn.neighbors is now part of the private API.\n",
            "  warnings.warn(message, FutureWarning)\n",
            "/usr/local/lib/python3.6/dist-packages/sklearn/utils/validation.py:760: DataConversionWarning: A column-vector y was passed when a 1d array was expected. Please change the shape of y to (n_samples, ), for example using ravel().\n",
            "  y = column_or_1d(y, warn=True)\n",
            "/usr/local/lib/python3.6/dist-packages/sklearn/utils/deprecation.py:87: FutureWarning: Function safe_indexing is deprecated; safe_indexing is deprecated in version 0.22 and will be removed in version 0.24.\n",
            "  warnings.warn(msg, category=FutureWarning)\n"
          ],
          "name": "stderr"
        },
        {
          "output_type": "stream",
          "text": [
            "length of oversampled data is  592002\n",
            "Number of no retweets in oversampled data 296001\n",
            "Number of at least one retweet 296001\n",
            "Proportion of no retweets data in oversampled data is  0.5\n",
            "Proportion of at least one retweet data in oversampled data is  0.5\n"
          ],
          "name": "stdout"
        }
      ]
    },
    {
      "cell_type": "markdown",
      "metadata": {
        "id": "mWNXCsyB24KH"
      },
      "source": [
        "### Recursive Feature Elimination"
      ]
    },
    {
      "cell_type": "markdown",
      "metadata": {
        "id": "I4tXQoqS3NCV"
      },
      "source": [
        "Our goal is to select features. Still have to understand how this method works."
      ]
    },
    {
      "cell_type": "code",
      "metadata": {
        "colab": {
          "base_uri": "https://localhost:8080/"
        },
        "id": "CeqADeBy3ERT",
        "outputId": "eadb6cae-775d-4c58-d492-c402c43f6ffe"
      },
      "source": [
        "data_final_vars=train_lr.columns.values.tolist()\n",
        "y=['retweet_count']\n",
        "X=[i for i in data_final_vars if i not in y]\n",
        "from sklearn.feature_selection import RFE\n",
        "from sklearn.linear_model import LogisticRegression\n",
        "logreg = LogisticRegression()\n",
        "rfe = RFE(logreg, 20)\n",
        "rfe = rfe.fit(os_data_X, os_data_y.values.ravel())\n",
        "print(rfe.support_)\n",
        "print(rfe.ranking_)"
      ],
      "execution_count": 20,
      "outputs": [
        {
          "output_type": "stream",
          "text": [
            "[ True  True  True  True  True  True  True  True False False False False\n",
            " False False False False False False  True  True  True  True  True  True\n",
            "  True  True  True  True  True False  True]\n",
            "[ 1  1  1  1  1  1  1  1  2  3  4  6  9 10 11 12  7  5  1  1  1  1  1  1\n",
            "  1  1  1  1  1  8  1]\n"
          ],
          "name": "stdout"
        }
      ]
    },
    {
      "cell_type": "markdown",
      "metadata": {
        "id": "H2NIUBBX4GQ6"
      },
      "source": [
        "Let's use to train only the columns the recursive feaure elimination chose."
      ]
    },
    {
      "cell_type": "code",
      "metadata": {
        "id": "4SOdoMQ73-wP"
      },
      "source": [
        "cols=['user_verified', 'user_statuses_count', 'user_followers_count', 'user_friends_count', 'user_mentions', 'urls', 'hashtags', \n",
        "      '0 - 1','12 - 13', '13 - 14', '14 - 15', '15 - 16', '16 - 17', '17 - 18', \n",
        "      '18 - 19', '19 - 20', '20 - 21', '21 - 22', '22 - 23', '23 - 24']\n",
        "\n",
        "#X=os_data_X[cols]\n",
        "#y=os_data_y['retweet_count']\n",
        "\n",
        "X = train_lr.loc[:, train_lr.columns != 'retweet_count']\n",
        "y = train_lr.loc[:, train_lr.columns == 'retweet_count']\n"
      ],
      "execution_count": 38,
      "outputs": []
    },
    {
      "cell_type": "markdown",
      "metadata": {
        "id": "o8uWnBQm6NMS"
      },
      "source": [
        "### Logistic regression model fitting"
      ]
    },
    {
      "cell_type": "code",
      "metadata": {
        "colab": {
          "base_uri": "https://localhost:8080/"
        },
        "id": "32III7y46L5l",
        "outputId": "c26f2e71-ae6e-4303-f141-93845fcb767f"
      },
      "source": [
        "from sklearn.linear_model import LogisticRegression\n",
        "from sklearn import metrics\n",
        "X_train, X_test, y_train, y_test = train_test_split(X, y, test_size=0.3, random_state=0)\n",
        "logreg = LogisticRegression()\n",
        "logreg.fit(X_train, y_train)"
      ],
      "execution_count": 39,
      "outputs": [
        {
          "output_type": "stream",
          "text": [
            "/usr/local/lib/python3.6/dist-packages/sklearn/utils/validation.py:760: DataConversionWarning: A column-vector y was passed when a 1d array was expected. Please change the shape of y to (n_samples, ), for example using ravel().\n",
            "  y = column_or_1d(y, warn=True)\n"
          ],
          "name": "stderr"
        },
        {
          "output_type": "execute_result",
          "data": {
            "text/plain": [
              "LogisticRegression(C=1.0, class_weight=None, dual=False, fit_intercept=True,\n",
              "                   intercept_scaling=1, l1_ratio=None, max_iter=100,\n",
              "                   multi_class='auto', n_jobs=None, penalty='l2',\n",
              "                   random_state=None, solver='lbfgs', tol=0.0001, verbose=0,\n",
              "                   warm_start=False)"
            ]
          },
          "metadata": {
            "tags": []
          },
          "execution_count": 39
        }
      ]
    },
    {
      "cell_type": "code",
      "metadata": {
        "colab": {
          "base_uri": "https://localhost:8080/"
        },
        "id": "aqixZm7U7PaE",
        "outputId": "ff1d6eee-6f7b-4512-b2e2-f153c12a2614"
      },
      "source": [
        "y_pred = logreg.predict(X_test)\n",
        "print('Accuracy of logistic regression classifier on test set: {:.2f}'.format(logreg.score(X_test, y_test)))"
      ],
      "execution_count": 40,
      "outputs": [
        {
          "output_type": "stream",
          "text": [
            "Accuracy of logistic regression classifier on test set: 0.74\n"
          ],
          "name": "stdout"
        }
      ]
    },
    {
      "cell_type": "markdown",
      "metadata": {
        "id": "S8L-S3CxJEiU"
      },
      "source": [
        "Let's compute : \\\\\n",
        "precision = tp/(tp + fp) \\\\\n",
        "recall = tp/(tp + fn) \\\\\n",
        "F-beta score = weighted harmonic mean of the precision and recall \\\\\n",
        "support = number of ocurrences of each class in y_test "
      ]
    },
    {
      "cell_type": "code",
      "metadata": {
        "colab": {
          "base_uri": "https://localhost:8080/"
        },
        "id": "BNFFC8nXJD-O",
        "outputId": "cc37cdaf-67f2-4afb-e43f-90c74d9b25e8"
      },
      "source": [
        "from sklearn.metrics import classification_report\n",
        "print(classification_report(y_test, y_pred))"
      ],
      "execution_count": 41,
      "outputs": [
        {
          "output_type": "stream",
          "text": [
            "              precision    recall  f1-score   support\n",
            "\n",
            "           0       0.81      0.77      0.79    126802\n",
            "           1       0.63      0.69      0.66     72932\n",
            "\n",
            "    accuracy                           0.74    199734\n",
            "   macro avg       0.72      0.73      0.73    199734\n",
            "weighted avg       0.75      0.74      0.74    199734\n",
            "\n"
          ],
          "name": "stdout"
        }
      ]
    },
    {
      "cell_type": "markdown",
      "metadata": {
        "id": "VWe_8_i4J-2M"
      },
      "source": [
        "The accuracy without the oversampling method is better than with the oversampling.\n"
      ]
    },
    {
      "cell_type": "markdown",
      "metadata": {
        "id": "X5c167SM9gNj"
      },
      "source": [
        "We can also calculate the confusion matrix"
      ]
    },
    {
      "cell_type": "code",
      "metadata": {
        "colab": {
          "base_uri": "https://localhost:8080/"
        },
        "id": "NC0FZwgnLdkX",
        "outputId": "056c779d-7736-4c7b-f485-48547a6d9bb5"
      },
      "source": [
        "from sklearn.metrics import confusion_matrix\n",
        "confusion_matrix = confusion_matrix(y_test, y_pred)\n",
        "print(confusion_matrix)"
      ],
      "execution_count": 42,
      "outputs": [
        {
          "output_type": "stream",
          "text": [
            "[[97656 29146]\n",
            " [22491 50441]]\n"
          ],
          "name": "stdout"
        }
      ]
    },
    {
      "cell_type": "markdown",
      "metadata": {
        "id": "PJ-qz0v69yB5"
      },
      "source": [
        "Finally the ROC curve"
      ]
    },
    {
      "cell_type": "code",
      "metadata": {
        "colab": {
          "base_uri": "https://localhost:8080/",
          "height": 301
        },
        "id": "vZZ7ZFyf9clV",
        "outputId": "1b702a68-572d-41ad-c11f-f75a0cf130d5"
      },
      "source": [
        "from sklearn.metrics import roc_auc_score\n",
        "from sklearn.metrics import roc_curve\n",
        "logit_roc_auc = roc_auc_score(y_test, logreg.predict(X_test))\n",
        "fpr, tpr, thresholds = roc_curve(y_test, logreg.predict_proba(X_test)[:,1])\n",
        "plt.figure()\n",
        "plt.plot(fpr, tpr, label='Logistic Regression (area = %0.2f)' % logit_roc_auc)\n",
        "plt.plot([0, 1], [0, 1],'r--')\n",
        "plt.xlim([0.0, 1.0])\n",
        "plt.ylim([0.0, 1.05])\n",
        "plt.xlabel('False Positive Rate')\n",
        "plt.ylabel('True Positive Rate')\n",
        "plt.title('Receiver operating characteristic')\n",
        "plt.legend(loc=\"lower right\")\n",
        "plt.savefig('Log_ROC')\n",
        "plt.show()"
      ],
      "execution_count": 43,
      "outputs": [
        {
          "output_type": "display_data",
          "data": {
            "image/png": "[encoded data removed]",
            "text/plain": [
              "<Figure size 432x288 with 1 Axes>"
            ]
          },
          "metadata": {
            "tags": []
          }
        }
      ]
    },
    {
      "cell_type": "code",
      "metadata": {
        "id": "ASOTNOTJ9wkC"
      },
      "source": [
        ""
      ],
      "execution_count": null,
      "outputs": []
    }
  ]
}