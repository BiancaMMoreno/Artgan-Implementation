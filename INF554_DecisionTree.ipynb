{
  "nbformat": 4,
  "nbformat_minor": 0,
  "metadata": {
    "colab": {
      "name": "INF554_DecisionTree.ipynb",
      "provenance": [],
      "collapsed_sections": [
        "QnrYuWbmihKO",
        "_g44QiSmkc4b",
        "_cA6xr3enC2H",
        "Wf_aD7LfpVls",
        "IauqeUB2p5nw",
        "tfihZM2ghf4Z"
      ],
      "include_colab_link": true
    },
    "kernelspec": {
      "name": "python3",
      "display_name": "Python 3"
    }
  },
  "cells": [
    {
      "cell_type": "markdown",
      "metadata": {
        "id": "view-in-github",
        "colab_type": "text"
      },
      "source": [
        "<a href=\"https://colab.research.google.com/github/BiancaMMoreno/Artgan-Implementation/blob/master/INF554_DecisionTree.ipynb\" target=\"_parent\"><img src=\"https://colab.research.google.com/assets/colab-badge.svg\" alt=\"Open In Colab\"/></a>"
      ]
    },
    {
      "cell_type": "code",
      "metadata": {
        "id": "G_tLj0okZ5Ym",
        "colab": {
          "base_uri": "https://localhost:8080/"
        },
        "outputId": "d440dad4-6580-409e-fdea-f952b78d5849"
      },
      "source": [
        "# Import and save into google drive\n",
        "from google.colab import drive\n",
        "drive.mount('/content/drive')\n",
        "%cd 'drive/My Drive/INF554/project'\n",
        "%ls"
      ],
      "execution_count": null,
      "outputs": [
        {
          "output_type": "stream",
          "text": [
            "Mounted at /content/drive\n",
            "/content/drive/My Drive/INF554/project\n",
            "baseline.py               mean_predictions.txt\n",
            "constant_predictions.txt  prediction_decisiontreesimple.txt\n",
            "\u001b[0m\u001b[01;34mdata\u001b[0m/                     prediction_decisiontree.txt\n",
            "dummy_baseline.py         twitter\n",
            "hist_age.png              twitter.pdf\n",
            "Log_ROC.png\n"
          ],
          "name": "stdout"
        }
      ]
    },
    {
      "cell_type": "markdown",
      "metadata": {
        "id": "P7_SpzyrbGgQ"
      },
      "source": [
        "## Import libraries\n"
      ]
    },
    {
      "cell_type": "code",
      "metadata": {
        "id": "HEJPqz_dax5U"
      },
      "source": [
        "import os\n",
        "import numpy as np\n",
        "import pandas as pd\n",
        "from datetime import datetime\n",
        "import matplotlib.pyplot as plt\n",
        "from tqdm.notebook import *\n",
        "from collections import Counter\n",
        "import torch\n",
        "import torch.nn.functional as F\n",
        "from torch.utils.data import Dataset, DataLoader\n",
        "\n",
        "from sklearn.model_selection import train_test_split\n",
        "from sklearn.preprocessing import OrdinalEncoder"
      ],
      "execution_count": null,
      "outputs": []
    },
    {
      "cell_type": "markdown",
      "metadata": {
        "id": "gataq_CGbJSl"
      },
      "source": [
        "## Open dataset"
      ]
    },
    {
      "cell_type": "code",
      "metadata": {
        "id": "hbENyRBJaGRg"
      },
      "source": [
        "data_path = \"data\" # main path to our dataset\n",
        "train_path = os.path.join(data_path, 'train.csv')\n",
        "eval_path = os.path.join(data_path, 'evaluation.csv')"
      ],
      "execution_count": null,
      "outputs": []
    },
    {
      "cell_type": "code",
      "metadata": {
        "id": "66vszfhNaIA3"
      },
      "source": [
        "train_df = pd.read_csv(train_path, index_col='id')\n",
        "eval_df = pd.read_csv(eval_path, index_col='id')"
      ],
      "execution_count": null,
      "outputs": []
    },
    {
      "cell_type": "code",
      "metadata": {
        "id": "yZ2vtLH1hJUz"
      },
      "source": [
        "train_df.head()"
      ],
      "execution_count": null,
      "outputs": []
    },
    {
      "cell_type": "markdown",
      "metadata": {
        "id": "XIdTk_jxbubN"
      },
      "source": [
        "Data visualization"
      ]
    },
    {
      "cell_type": "markdown",
      "metadata": {
        "id": "RYee_B-wby8l"
      },
      "source": [
        "## Data transformation"
      ]
    },
    {
      "cell_type": "code",
      "metadata": {
        "id": "ZTLNfV5niZJS"
      },
      "source": [
        "\n",
        "def numerical_to_categorical(df, column, cat=None, dummies=False):\n",
        "  if column not in df:\n",
        "    raise Exception(\"'{}' column not found in the dataframe\".format(column))\n",
        "  if cat is None:\n",
        "    out, cat = pd.cut(df[column], bins=50, retbins=True)\n",
        "  else:\n",
        "    out = pd.cut(df[column], bins=cat)\n",
        "  if dummies:\n",
        "    out = out.to_frame('values')\n",
        "    dummies = pd.get_dummies(out['values'])\n",
        "    df = df.drop([column], axis=1)\n",
        "    return pd.concat([df, dummies], axis=1, join='inner'), cat\n",
        "  else:\n",
        "    cat = np.array([0, 1, 10, 100, 500, 1000, 5000, 10000, 50000, 100000, np.inf])\n",
        "    df[column+\"_interval\"] = pd.cut(df[column], bins=cat, right=False)\n",
        "    ord_enc = OrdinalEncoder()\n",
        "    df[column+\"_interval\"] = ord_enc.fit_transform(df[[column+\"_interval\"]]).astype(int)\n",
        "    return df\n",
        "\n"
      ],
      "execution_count": null,
      "outputs": []
    },
    {
      "cell_type": "markdown",
      "metadata": {
        "id": "xsiFwgleb31M"
      },
      "source": [
        "### timestamp\n",
        "\n",
        "For this column, we split into 24 columns based on intervals of one hour per day equivalent to the time of tweets. These columns will have boolean values (0 or 1), being 1 if the tweet was posted in that interval, 0 if not."
      ]
    },
    {
      "cell_type": "code",
      "metadata": {
        "id": "74SSKIJgbqe2"
      },
      "source": [
        "def transform_timestamp(df):\n",
        "  if 'timestamp' not in df:\n",
        "    raise Exception(\"'timestamp' column not found in the dataframe\")\n",
        "  # we must divide by 1000 to transform into ms\n",
        "  df['time'] = df.apply(lambda x: datetime.fromtimestamp(x['timestamp']/ 1000).hour, axis=1)\n",
        "  new_c = {i: '{} - {}'.format(i, i + 1) for i in range(24)}\n",
        "  dummies = pd.get_dummies(df['time'])\n",
        "  dummies = dummies.rename(columns=new_c)\n",
        "  df = df.drop(['timestamp', 'time'], axis=1)\n",
        "  return pd.concat([df, dummies], axis=1, join='inner')\n",
        "train_df = transform_timestamp(train_df)\n",
        "eval_df = transform_timestamp(eval_df)"
      ],
      "execution_count": null,
      "outputs": []
    },
    {
      "cell_type": "code",
      "metadata": {
        "id": "POxO6V7SUH3r",
        "colab": {
          "base_uri": "https://localhost:8080/"
        },
        "outputId": "45f3acc4-fee9-4e1a-a9d4-05d6be5d88df"
      },
      "source": [
        "# hour\n",
        "\"\"\"\n",
        "def transform_timestamp(df):\n",
        "  if 'timestamp' not in df:\n",
        "    raise Exception(\"'timestamp' column not found in the dataframe\")\n",
        "  # we must divide by 1000 to transform into ms\n",
        "  df['time'] = df.apply(lambda x: (datetime.fromtimestamp(x['timestamp']/ 1000).hour) / 24, axis=1)\n",
        "  df = df.drop(['timestamp'], axis=1)\n",
        "  return df\n",
        "train_df = transform_timestamp(train_df)\n",
        "eval_df = transform_timestamp(eval_df)\n",
        "\"\"\""
      ],
      "execution_count": null,
      "outputs": [
        {
          "output_type": "execute_result",
          "data": {
            "application/vnd.google.colaboratory.intrinsic+json": {
              "type": "string"
            },
            "text/plain": [
              "'\\ndef transform_timestamp(df):\\n  if \\'timestamp\\' not in df:\\n    raise Exception(\"\\'timestamp\\' column not found in the dataframe\")\\n  # we must divide by 1000 to transform into ms\\n  df[\\'time\\'] = df.apply(lambda x: (datetime.fromtimestamp(x[\\'timestamp\\']/ 1000).hour) / 24, axis=1)\\n  df = df.drop([\\'timestamp\\'], axis=1)\\n  return df\\ntrain_df = transform_timestamp(train_df)\\neval_df = transform_timestamp(eval_df)\\n'"
            ]
          },
          "metadata": {
            "tags": []
          },
          "execution_count": 7
        }
      ]
    },
    {
      "cell_type": "markdown",
      "metadata": {
        "id": "_cA6xr3enC2H"
      },
      "source": [
        "### urls\n",
        "\n",
        "Transform into a boolean value (0 if there isn't a url, 1 if there is)"
      ]
    },
    {
      "cell_type": "code",
      "metadata": {
        "id": "4UDclb3KnC61"
      },
      "source": [
        "def transform_urls(df):\n",
        "  if 'urls' not in df:\n",
        "    raise Exception(\"'{}' column not found in the dataframe\".format('urls'))\n",
        "  df[\"urls\"] = df.apply(lambda x: 0 if x[\"urls\"] != x[\"urls\"] else 1, axis=1)\n",
        "  return df \n",
        "train_df = transform_urls(train_df)\n",
        "eval_df = transform_urls(eval_df)"
      ],
      "execution_count": null,
      "outputs": []
    },
    {
      "cell_type": "markdown",
      "metadata": {
        "id": "IauqeUB2p5nw"
      },
      "source": [
        "### text\n",
        "\n",
        "Drop this column for now"
      ]
    },
    {
      "cell_type": "code",
      "metadata": {
        "id": "MX4z_5CMp5tM"
      },
      "source": [
        "train_df = train_df.drop(['text'], axis=1)\n",
        "eval_df = eval_df.drop(['text'], axis=1)"
      ],
      "execution_count": null,
      "outputs": []
    },
    {
      "cell_type": "markdown",
      "metadata": {
        "id": "_g44QiSmkc4b"
      },
      "source": [
        "### user_mentions\n",
        "\n",
        "Count the number of mentions and normalize our values"
      ]
    },
    {
      "cell_type": "code",
      "metadata": {
        "id": "NWD-puqekc_C"
      },
      "source": [
        "def count_and_normalize(df, column, mean=None, std=None):\n",
        "  if column not in df:\n",
        "    raise Exception(\"'{}' column not found in the dataframe\".format(column))\n",
        "  df = df.copy()\n",
        "  df[column].fillna(\"\", inplace=True)\n",
        "  df[column] = df.apply(lambda x: 0 if x[column] == \"\" else len(x[column].split(\",\")), axis=1)\n",
        "  return df, mean, std\n",
        "  # return normalize(df, column, mean=mean, std=std)\n",
        "train_df, mean, std = count_and_normalize(train_df, 'user_mentions')\n",
        "eval_df, _, _ = count_and_normalize(eval_df, 'user_mentions', mean, std)"
      ],
      "execution_count": null,
      "outputs": []
    },
    {
      "cell_type": "markdown",
      "metadata": {
        "id": "usdpNRjNh8eO"
      },
      "source": [
        "### user_verified\n",
        "\n",
        "Transform into 0 and 1 values"
      ]
    },
    {
      "cell_type": "code",
      "metadata": {
        "id": "1sC1oX6jpVqu"
      },
      "source": [
        "train_df, mean, std = count_and_normalize(train_df, 'hashtags')\n",
        "eval_df, _, _ = count_and_normalize(eval_df, 'hashtags', mean, std)"
      ],
      "execution_count": null,
      "outputs": []
    },
    {
      "cell_type": "markdown",
      "metadata": {
        "id": "Wf_aD7LfpVls"
      },
      "source": [
        "### hashtags\n",
        "\n",
        "Count the number of hashtags"
      ]
    },
    {
      "cell_type": "code",
      "metadata": {
        "id": "x7D4Tft8h8j1"
      },
      "source": [
        "def transform_user_verified(df):\n",
        "  if 'user_verified' not in df:\n",
        "    raise Exception(\"'user_verified' column not found in the dataframe\")\n",
        "  df['user_verified'] *= 1\n",
        "  return df\n",
        "train_df = transform_user_verified(train_df)\n",
        "eval_df = transform_user_verified(eval_df)"
      ],
      "execution_count": null,
      "outputs": []
    },
    {
      "cell_type": "markdown",
      "metadata": {
        "id": "tfihZM2ghf4Z"
      },
      "source": [
        "### retweet_count\n",
        " \n",
        " Make a new categorical column with the retweet intervals"
      ]
    },
    {
      "cell_type": "code",
      "metadata": {
        "id": "ugmvhTS-_qpI"
      },
      "source": [
        "from sklearn.preprocessing import OrdinalEncoder\n",
        "\n",
        "cat = np.array([0, 1, 10, 100, 500, 1000, 5000, 10000, 50000, 100000, np.inf])\n",
        "mean = [0, 5, 55, 300, 750, 2500, 7500, 25000, 75000, 100000]\n",
        "train_df = numerical_to_categorical(train_df, \"retweet_count\", cat=cat, dummies=False)"
      ],
      "execution_count": null,
      "outputs": []
    },
    {
      "cell_type": "markdown",
      "metadata": {
        "id": "aCjQCF9dc_yM"
      },
      "source": [
        "Let's visualize the histogram of the distribution of tweets on the intervals"
      ]
    },
    {
      "cell_type": "code",
      "metadata": {
        "colab": {
          "base_uri": "https://localhost:8080/",
          "height": 285
        },
        "id": "PCIh62tAchFs",
        "outputId": "d69797fe-3f17-474c-af88-7272660be145"
      },
      "source": [
        "from sklearn import preprocessing\n",
        "plt.rc(\"font\", size=14)\n",
        "import seaborn as sns\n",
        "sns.set(style=\"white\")\n",
        "sns.set(style=\"whitegrid\", color_codes=True)\n",
        "\n",
        "sns.countplot(x='retweet_count_interval',data=train_df,palette='hls')\n",
        "plt.show()\n"
      ],
      "execution_count": null,
      "outputs": [
        {
          "output_type": "display_data",
          "data": {
            "image/png": "[encoded data removed]",
            "text/plain": [
              "<Figure size 432x288 with 1 Axes>"
            ]
          },
          "metadata": {
            "tags": []
          }
        }
      ]
    },
    {
      "cell_type": "markdown",
      "metadata": {
        "id": "PCsVVlD6dGOw"
      },
      "source": [
        "We see that they are really unbalanced. Probably this means the decision tree algo will work better if we assign some kind of weight distribution to the categories."
      ]
    },
    {
      "cell_type": "code",
      "metadata": {
        "colab": {
          "base_uri": "https://localhost:8080/",
          "height": 289
        },
        "id": "L-Pgy2UJdhXQ",
        "outputId": "ba234af6-5ef8-4d25-a9bc-16439e72ee1c"
      },
      "source": [
        "train_dt = train_df.drop(['retweet_count'], axis=1)\n",
        "train_dt.head()"
      ],
      "execution_count": null,
      "outputs": [
        {
          "output_type": "execute_result",
          "data": {
            "text/html": [
              "<div>\n",
              "<style scoped>\n",
              "    .dataframe tbody tr th:only-of-type {\n",
              "        vertical-align: middle;\n",
              "    }\n",
              "\n",
              "    .dataframe tbody tr th {\n",
              "        vertical-align: top;\n",
              "    }\n",
              "\n",
              "    .dataframe thead th {\n",
              "        text-align: right;\n",
              "    }\n",
              "</style>\n",
              "<table border=\"1\" class=\"dataframe\">\n",
              "  <thead>\n",
              "    <tr style=\"text-align: right;\">\n",
              "      <th></th>\n",
              "      <th>user_verified</th>\n",
              "      <th>user_statuses_count</th>\n",
              "      <th>user_followers_count</th>\n",
              "      <th>user_friends_count</th>\n",
              "      <th>user_mentions</th>\n",
              "      <th>urls</th>\n",
              "      <th>hashtags</th>\n",
              "      <th>0 - 1</th>\n",
              "      <th>1 - 2</th>\n",
              "      <th>2 - 3</th>\n",
              "      <th>3 - 4</th>\n",
              "      <th>4 - 5</th>\n",
              "      <th>5 - 6</th>\n",
              "      <th>6 - 7</th>\n",
              "      <th>7 - 8</th>\n",
              "      <th>8 - 9</th>\n",
              "      <th>9 - 10</th>\n",
              "      <th>10 - 11</th>\n",
              "      <th>11 - 12</th>\n",
              "      <th>12 - 13</th>\n",
              "      <th>13 - 14</th>\n",
              "      <th>14 - 15</th>\n",
              "      <th>15 - 16</th>\n",
              "      <th>16 - 17</th>\n",
              "      <th>17 - 18</th>\n",
              "      <th>18 - 19</th>\n",
              "      <th>19 - 20</th>\n",
              "      <th>20 - 21</th>\n",
              "      <th>21 - 22</th>\n",
              "      <th>22 - 23</th>\n",
              "      <th>23 - 24</th>\n",
              "      <th>retweet_count_interval</th>\n",
              "    </tr>\n",
              "    <tr>\n",
              "      <th>id</th>\n",
              "      <th></th>\n",
              "      <th></th>\n",
              "      <th></th>\n",
              "      <th></th>\n",
              "      <th></th>\n",
              "      <th></th>\n",
              "      <th></th>\n",
              "      <th></th>\n",
              "      <th></th>\n",
              "      <th></th>\n",
              "      <th></th>\n",
              "      <th></th>\n",
              "      <th></th>\n",
              "      <th></th>\n",
              "      <th></th>\n",
              "      <th></th>\n",
              "      <th></th>\n",
              "      <th></th>\n",
              "      <th></th>\n",
              "      <th></th>\n",
              "      <th></th>\n",
              "      <th></th>\n",
              "      <th></th>\n",
              "      <th></th>\n",
              "      <th></th>\n",
              "      <th></th>\n",
              "      <th></th>\n",
              "      <th></th>\n",
              "      <th></th>\n",
              "      <th></th>\n",
              "      <th></th>\n",
              "      <th></th>\n",
              "    </tr>\n",
              "  </thead>\n",
              "  <tbody>\n",
              "    <tr>\n",
              "      <th>0</th>\n",
              "      <td>0</td>\n",
              "      <td>68460</td>\n",
              "      <td>1101</td>\n",
              "      <td>1226</td>\n",
              "      <td>0</td>\n",
              "      <td>0</td>\n",
              "      <td>0</td>\n",
              "      <td>0</td>\n",
              "      <td>0</td>\n",
              "      <td>0</td>\n",
              "      <td>0</td>\n",
              "      <td>0</td>\n",
              "      <td>0</td>\n",
              "      <td>0</td>\n",
              "      <td>0</td>\n",
              "      <td>0</td>\n",
              "      <td>0</td>\n",
              "      <td>0</td>\n",
              "      <td>0</td>\n",
              "      <td>0</td>\n",
              "      <td>0</td>\n",
              "      <td>0</td>\n",
              "      <td>0</td>\n",
              "      <td>1</td>\n",
              "      <td>0</td>\n",
              "      <td>0</td>\n",
              "      <td>0</td>\n",
              "      <td>0</td>\n",
              "      <td>0</td>\n",
              "      <td>0</td>\n",
              "      <td>0</td>\n",
              "      <td>0</td>\n",
              "    </tr>\n",
              "    <tr>\n",
              "      <th>1</th>\n",
              "      <td>0</td>\n",
              "      <td>309</td>\n",
              "      <td>51</td>\n",
              "      <td>202</td>\n",
              "      <td>0</td>\n",
              "      <td>0</td>\n",
              "      <td>0</td>\n",
              "      <td>1</td>\n",
              "      <td>0</td>\n",
              "      <td>0</td>\n",
              "      <td>0</td>\n",
              "      <td>0</td>\n",
              "      <td>0</td>\n",
              "      <td>0</td>\n",
              "      <td>0</td>\n",
              "      <td>0</td>\n",
              "      <td>0</td>\n",
              "      <td>0</td>\n",
              "      <td>0</td>\n",
              "      <td>0</td>\n",
              "      <td>0</td>\n",
              "      <td>0</td>\n",
              "      <td>0</td>\n",
              "      <td>0</td>\n",
              "      <td>0</td>\n",
              "      <td>0</td>\n",
              "      <td>0</td>\n",
              "      <td>0</td>\n",
              "      <td>0</td>\n",
              "      <td>0</td>\n",
              "      <td>0</td>\n",
              "      <td>0</td>\n",
              "    </tr>\n",
              "    <tr>\n",
              "      <th>2</th>\n",
              "      <td>0</td>\n",
              "      <td>3241</td>\n",
              "      <td>1675</td>\n",
              "      <td>2325</td>\n",
              "      <td>0</td>\n",
              "      <td>0</td>\n",
              "      <td>0</td>\n",
              "      <td>0</td>\n",
              "      <td>0</td>\n",
              "      <td>0</td>\n",
              "      <td>0</td>\n",
              "      <td>0</td>\n",
              "      <td>0</td>\n",
              "      <td>0</td>\n",
              "      <td>0</td>\n",
              "      <td>0</td>\n",
              "      <td>0</td>\n",
              "      <td>0</td>\n",
              "      <td>0</td>\n",
              "      <td>0</td>\n",
              "      <td>0</td>\n",
              "      <td>0</td>\n",
              "      <td>0</td>\n",
              "      <td>0</td>\n",
              "      <td>0</td>\n",
              "      <td>0</td>\n",
              "      <td>0</td>\n",
              "      <td>0</td>\n",
              "      <td>0</td>\n",
              "      <td>0</td>\n",
              "      <td>1</td>\n",
              "      <td>0</td>\n",
              "    </tr>\n",
              "    <tr>\n",
              "      <th>3</th>\n",
              "      <td>0</td>\n",
              "      <td>32327</td>\n",
              "      <td>667</td>\n",
              "      <td>304</td>\n",
              "      <td>0</td>\n",
              "      <td>0</td>\n",
              "      <td>0</td>\n",
              "      <td>0</td>\n",
              "      <td>0</td>\n",
              "      <td>0</td>\n",
              "      <td>0</td>\n",
              "      <td>0</td>\n",
              "      <td>0</td>\n",
              "      <td>0</td>\n",
              "      <td>0</td>\n",
              "      <td>0</td>\n",
              "      <td>0</td>\n",
              "      <td>0</td>\n",
              "      <td>0</td>\n",
              "      <td>0</td>\n",
              "      <td>0</td>\n",
              "      <td>0</td>\n",
              "      <td>1</td>\n",
              "      <td>0</td>\n",
              "      <td>0</td>\n",
              "      <td>0</td>\n",
              "      <td>0</td>\n",
              "      <td>0</td>\n",
              "      <td>0</td>\n",
              "      <td>0</td>\n",
              "      <td>0</td>\n",
              "      <td>0</td>\n",
              "    </tr>\n",
              "    <tr>\n",
              "      <th>4</th>\n",
              "      <td>0</td>\n",
              "      <td>581</td>\n",
              "      <td>42</td>\n",
              "      <td>127</td>\n",
              "      <td>0</td>\n",
              "      <td>0</td>\n",
              "      <td>0</td>\n",
              "      <td>0</td>\n",
              "      <td>0</td>\n",
              "      <td>0</td>\n",
              "      <td>0</td>\n",
              "      <td>0</td>\n",
              "      <td>0</td>\n",
              "      <td>0</td>\n",
              "      <td>0</td>\n",
              "      <td>1</td>\n",
              "      <td>0</td>\n",
              "      <td>0</td>\n",
              "      <td>0</td>\n",
              "      <td>0</td>\n",
              "      <td>0</td>\n",
              "      <td>0</td>\n",
              "      <td>0</td>\n",
              "      <td>0</td>\n",
              "      <td>0</td>\n",
              "      <td>0</td>\n",
              "      <td>0</td>\n",
              "      <td>0</td>\n",
              "      <td>0</td>\n",
              "      <td>0</td>\n",
              "      <td>0</td>\n",
              "      <td>0</td>\n",
              "    </tr>\n",
              "  </tbody>\n",
              "</table>\n",
              "</div>"
            ],
            "text/plain": [
              "    user_verified  user_statuses_count  ...  23 - 24  retweet_count_interval\n",
              "id                                      ...                                 \n",
              "0               0                68460  ...        0                       0\n",
              "1               0                  309  ...        0                       0\n",
              "2               0                 3241  ...        1                       0\n",
              "3               0                32327  ...        0                       0\n",
              "4               0                  581  ...        0                       0\n",
              "\n",
              "[5 rows x 32 columns]"
            ]
          },
          "metadata": {
            "tags": []
          },
          "execution_count": 15
        }
      ]
    },
    {
      "cell_type": "markdown",
      "metadata": {
        "id": "6gfh1EtedSET"
      },
      "source": [
        "### Decision Tree"
      ]
    },
    {
      "cell_type": "markdown",
      "metadata": {
        "id": "cMMnLAv4dXFs"
      },
      "source": [
        "We first try a version of decision tree with the rough dataset."
      ]
    },
    {
      "cell_type": "code",
      "metadata": {
        "id": "5N_He63Yddtm"
      },
      "source": [
        "X = train_dt.loc[:, train_dt.columns != 'retweet_count_interval']\n",
        "y = train_dt.loc[:, train_dt.columns == 'retweet_count_interval']\n",
        "\n",
        "X_train, X_test, y_train, y_test = train_test_split(X, y, test_size=0.3, random_state=0)\n",
        "\n"
      ],
      "execution_count": null,
      "outputs": []
    },
    {
      "cell_type": "code",
      "metadata": {
        "id": "z9riQokUflfs"
      },
      "source": [
        "from sklearn import tree\n",
        "clf = tree.DecisionTreeClassifier(max_depth=3)\n",
        "clf = clf.fit(X_train, y_train)"
      ],
      "execution_count": null,
      "outputs": []
    },
    {
      "cell_type": "code",
      "metadata": {
        "id": "cvSyEVUlgDDL"
      },
      "source": [
        "#print(clf.score(X_test, y_test))\n",
        "y_pred = clf.predict(eval_df)"
      ],
      "execution_count": null,
      "outputs": []
    },
    {
      "cell_type": "code",
      "metadata": {
        "id": "FIqGZJddmJTz"
      },
      "source": [
        "def calculate_error_categorical(y_pred, y_real, mean):\n",
        "  s = 0\n",
        "  for y_p, y_r in zip(y_pred, y_real):\n",
        "    s += abs(mean[y_p] - y_r)\n",
        "  return s/len(y_pred)\n",
        "\n",
        "mean = [0, 5, 55, 300, 750, 2500, 7500, 25000, 75000, 100000]\n",
        "\n",
        "#calculate_error_categorical(y_pred,train_df['retweet_count'],mean)"
      ],
      "execution_count": null,
      "outputs": []
    },
    {
      "cell_type": "markdown",
      "metadata": {
        "id": "cZuSWYvQhkV8"
      },
      "source": [
        "Now we try to understand this tree :)"
      ]
    },
    {
      "cell_type": "code",
      "metadata": {
        "id": "waT2N7vthnpp"
      },
      "source": [
        "# Depth of our tree\n",
        "clf.get_depth()"
      ],
      "execution_count": null,
      "outputs": []
    },
    {
      "cell_type": "code",
      "metadata": {
        "id": "H8yeR0UWifLo"
      },
      "source": [
        "# Number of leaves of our tree\n",
        "clf.get_n_leaves()"
      ],
      "execution_count": null,
      "outputs": []
    },
    {
      "cell_type": "code",
      "metadata": {
        "id": "VaHzpavQjQHw"
      },
      "source": [
        "import graphviz \n",
        "\n",
        "#dot_data = tree.export_graphviz(clf, out_file=None) \n",
        "#graph = graphviz.Source(dot_data) \n",
        "\n",
        "dot_data = tree.export_graphviz(clf, out_file=None, \n",
        "                      feature_names=X.columns,  \n",
        "                      class_names=iris.target_names,  \n",
        "                      filled=True, rounded=True,  \n",
        "                      special_characters=True)  \n",
        "graph = graphviz.Source(dot_data)  \n",
        "graph"
      ],
      "execution_count": null,
      "outputs": []
    },
    {
      "cell_type": "markdown",
      "metadata": {
        "id": "_IOK4RnnSvbu"
      },
      "source": [
        "Let's calculate the sample weights (as the dataset is unbalanced)."
      ]
    },
    {
      "cell_type": "code",
      "metadata": {
        "id": "9HqeEJwWS1o1"
      },
      "source": [
        "from sklearn.utils import class_weight\n",
        "sample_weights = class_weight.compute_sample_weight(None,y)\n",
        "\n",
        "clf = tree.DecisionTreeClassifier(max_depth=1)\n",
        "clf = clf.fit(X, y,sample_weight=sample_weights)\n"
      ],
      "execution_count": null,
      "outputs": []
    },
    {
      "cell_type": "code",
      "metadata": {
        "colab": {
          "base_uri": "https://localhost:8080/"
        },
        "id": "m9k58fUEUrvG",
        "outputId": "d071a3b7-bc17-4f45-a418-61e168abd5b7"
      },
      "source": [
        "print(clf.score(X_test, y_test))"
      ],
      "execution_count": null,
      "outputs": [
        {
          "output_type": "stream",
          "text": [
            "0.8257832917780649\n"
          ],
          "name": "stdout"
        }
      ]
    },
    {
      "cell_type": "markdown",
      "metadata": {
        "id": "bpnArnAhXrUO"
      },
      "source": [
        ""
      ]
    },
    {
      "cell_type": "code",
      "metadata": {
        "colab": {
          "base_uri": "https://localhost:8080/",
          "height": 289
        },
        "id": "FHo5GCNDajh0",
        "outputId": "056bb0a1-0967-4735-d7ca-1066540ac45b"
      },
      "source": [
        "train_dt.head()"
      ],
      "execution_count": null,
      "outputs": [
        {
          "output_type": "execute_result",
          "data": {
            "text/html": [
              "<div>\n",
              "<style scoped>\n",
              "    .dataframe tbody tr th:only-of-type {\n",
              "        vertical-align: middle;\n",
              "    }\n",
              "\n",
              "    .dataframe tbody tr th {\n",
              "        vertical-align: top;\n",
              "    }\n",
              "\n",
              "    .dataframe thead th {\n",
              "        text-align: right;\n",
              "    }\n",
              "</style>\n",
              "<table border=\"1\" class=\"dataframe\">\n",
              "  <thead>\n",
              "    <tr style=\"text-align: right;\">\n",
              "      <th></th>\n",
              "      <th>user_verified</th>\n",
              "      <th>user_statuses_count</th>\n",
              "      <th>user_followers_count</th>\n",
              "      <th>user_friends_count</th>\n",
              "      <th>user_mentions</th>\n",
              "      <th>urls</th>\n",
              "      <th>hashtags</th>\n",
              "      <th>0 - 1</th>\n",
              "      <th>1 - 2</th>\n",
              "      <th>2 - 3</th>\n",
              "      <th>3 - 4</th>\n",
              "      <th>4 - 5</th>\n",
              "      <th>5 - 6</th>\n",
              "      <th>6 - 7</th>\n",
              "      <th>7 - 8</th>\n",
              "      <th>8 - 9</th>\n",
              "      <th>9 - 10</th>\n",
              "      <th>10 - 11</th>\n",
              "      <th>11 - 12</th>\n",
              "      <th>12 - 13</th>\n",
              "      <th>13 - 14</th>\n",
              "      <th>14 - 15</th>\n",
              "      <th>15 - 16</th>\n",
              "      <th>16 - 17</th>\n",
              "      <th>17 - 18</th>\n",
              "      <th>18 - 19</th>\n",
              "      <th>19 - 20</th>\n",
              "      <th>20 - 21</th>\n",
              "      <th>21 - 22</th>\n",
              "      <th>22 - 23</th>\n",
              "      <th>23 - 24</th>\n",
              "      <th>retweet_count_interval</th>\n",
              "    </tr>\n",
              "    <tr>\n",
              "      <th>id</th>\n",
              "      <th></th>\n",
              "      <th></th>\n",
              "      <th></th>\n",
              "      <th></th>\n",
              "      <th></th>\n",
              "      <th></th>\n",
              "      <th></th>\n",
              "      <th></th>\n",
              "      <th></th>\n",
              "      <th></th>\n",
              "      <th></th>\n",
              "      <th></th>\n",
              "      <th></th>\n",
              "      <th></th>\n",
              "      <th></th>\n",
              "      <th></th>\n",
              "      <th></th>\n",
              "      <th></th>\n",
              "      <th></th>\n",
              "      <th></th>\n",
              "      <th></th>\n",
              "      <th></th>\n",
              "      <th></th>\n",
              "      <th></th>\n",
              "      <th></th>\n",
              "      <th></th>\n",
              "      <th></th>\n",
              "      <th></th>\n",
              "      <th></th>\n",
              "      <th></th>\n",
              "      <th></th>\n",
              "      <th></th>\n",
              "    </tr>\n",
              "  </thead>\n",
              "  <tbody>\n",
              "    <tr>\n",
              "      <th>0</th>\n",
              "      <td>0</td>\n",
              "      <td>68460</td>\n",
              "      <td>1101</td>\n",
              "      <td>1226</td>\n",
              "      <td>0</td>\n",
              "      <td>0</td>\n",
              "      <td>0</td>\n",
              "      <td>0</td>\n",
              "      <td>0</td>\n",
              "      <td>0</td>\n",
              "      <td>0</td>\n",
              "      <td>0</td>\n",
              "      <td>0</td>\n",
              "      <td>0</td>\n",
              "      <td>0</td>\n",
              "      <td>0</td>\n",
              "      <td>0</td>\n",
              "      <td>0</td>\n",
              "      <td>0</td>\n",
              "      <td>0</td>\n",
              "      <td>0</td>\n",
              "      <td>0</td>\n",
              "      <td>0</td>\n",
              "      <td>1</td>\n",
              "      <td>0</td>\n",
              "      <td>0</td>\n",
              "      <td>0</td>\n",
              "      <td>0</td>\n",
              "      <td>0</td>\n",
              "      <td>0</td>\n",
              "      <td>0</td>\n",
              "      <td>0</td>\n",
              "    </tr>\n",
              "    <tr>\n",
              "      <th>1</th>\n",
              "      <td>0</td>\n",
              "      <td>309</td>\n",
              "      <td>51</td>\n",
              "      <td>202</td>\n",
              "      <td>0</td>\n",
              "      <td>0</td>\n",
              "      <td>0</td>\n",
              "      <td>1</td>\n",
              "      <td>0</td>\n",
              "      <td>0</td>\n",
              "      <td>0</td>\n",
              "      <td>0</td>\n",
              "      <td>0</td>\n",
              "      <td>0</td>\n",
              "      <td>0</td>\n",
              "      <td>0</td>\n",
              "      <td>0</td>\n",
              "      <td>0</td>\n",
              "      <td>0</td>\n",
              "      <td>0</td>\n",
              "      <td>0</td>\n",
              "      <td>0</td>\n",
              "      <td>0</td>\n",
              "      <td>0</td>\n",
              "      <td>0</td>\n",
              "      <td>0</td>\n",
              "      <td>0</td>\n",
              "      <td>0</td>\n",
              "      <td>0</td>\n",
              "      <td>0</td>\n",
              "      <td>0</td>\n",
              "      <td>0</td>\n",
              "    </tr>\n",
              "    <tr>\n",
              "      <th>2</th>\n",
              "      <td>0</td>\n",
              "      <td>3241</td>\n",
              "      <td>1675</td>\n",
              "      <td>2325</td>\n",
              "      <td>0</td>\n",
              "      <td>0</td>\n",
              "      <td>0</td>\n",
              "      <td>0</td>\n",
              "      <td>0</td>\n",
              "      <td>0</td>\n",
              "      <td>0</td>\n",
              "      <td>0</td>\n",
              "      <td>0</td>\n",
              "      <td>0</td>\n",
              "      <td>0</td>\n",
              "      <td>0</td>\n",
              "      <td>0</td>\n",
              "      <td>0</td>\n",
              "      <td>0</td>\n",
              "      <td>0</td>\n",
              "      <td>0</td>\n",
              "      <td>0</td>\n",
              "      <td>0</td>\n",
              "      <td>0</td>\n",
              "      <td>0</td>\n",
              "      <td>0</td>\n",
              "      <td>0</td>\n",
              "      <td>0</td>\n",
              "      <td>0</td>\n",
              "      <td>0</td>\n",
              "      <td>1</td>\n",
              "      <td>0</td>\n",
              "    </tr>\n",
              "    <tr>\n",
              "      <th>3</th>\n",
              "      <td>0</td>\n",
              "      <td>32327</td>\n",
              "      <td>667</td>\n",
              "      <td>304</td>\n",
              "      <td>0</td>\n",
              "      <td>0</td>\n",
              "      <td>0</td>\n",
              "      <td>0</td>\n",
              "      <td>0</td>\n",
              "      <td>0</td>\n",
              "      <td>0</td>\n",
              "      <td>0</td>\n",
              "      <td>0</td>\n",
              "      <td>0</td>\n",
              "      <td>0</td>\n",
              "      <td>0</td>\n",
              "      <td>0</td>\n",
              "      <td>0</td>\n",
              "      <td>0</td>\n",
              "      <td>0</td>\n",
              "      <td>0</td>\n",
              "      <td>0</td>\n",
              "      <td>1</td>\n",
              "      <td>0</td>\n",
              "      <td>0</td>\n",
              "      <td>0</td>\n",
              "      <td>0</td>\n",
              "      <td>0</td>\n",
              "      <td>0</td>\n",
              "      <td>0</td>\n",
              "      <td>0</td>\n",
              "      <td>0</td>\n",
              "    </tr>\n",
              "    <tr>\n",
              "      <th>4</th>\n",
              "      <td>0</td>\n",
              "      <td>581</td>\n",
              "      <td>42</td>\n",
              "      <td>127</td>\n",
              "      <td>0</td>\n",
              "      <td>0</td>\n",
              "      <td>0</td>\n",
              "      <td>0</td>\n",
              "      <td>0</td>\n",
              "      <td>0</td>\n",
              "      <td>0</td>\n",
              "      <td>0</td>\n",
              "      <td>0</td>\n",
              "      <td>0</td>\n",
              "      <td>0</td>\n",
              "      <td>1</td>\n",
              "      <td>0</td>\n",
              "      <td>0</td>\n",
              "      <td>0</td>\n",
              "      <td>0</td>\n",
              "      <td>0</td>\n",
              "      <td>0</td>\n",
              "      <td>0</td>\n",
              "      <td>0</td>\n",
              "      <td>0</td>\n",
              "      <td>0</td>\n",
              "      <td>0</td>\n",
              "      <td>0</td>\n",
              "      <td>0</td>\n",
              "      <td>0</td>\n",
              "      <td>0</td>\n",
              "      <td>0</td>\n",
              "    </tr>\n",
              "  </tbody>\n",
              "</table>\n",
              "</div>"
            ],
            "text/plain": [
              "    user_verified  user_statuses_count  ...  23 - 24  retweet_count_interval\n",
              "id                                      ...                                 \n",
              "0               0                68460  ...        0                       0\n",
              "1               0                  309  ...        0                       0\n",
              "2               0                 3241  ...        1                       0\n",
              "3               0                32327  ...        0                       0\n",
              "4               0                  581  ...        0                       0\n",
              "\n",
              "[5 rows x 32 columns]"
            ]
          },
          "metadata": {
            "tags": []
          },
          "execution_count": 20
        }
      ]
    },
    {
      "cell_type": "code",
      "metadata": {
        "colab": {
          "base_uri": "https://localhost:8080/"
        },
        "id": "ylt2ZV2oYIZI",
        "outputId": "821b03ab-fb0d-4217-cc77-eaf0436c171b"
      },
      "source": [
        "cols=['user_statuses_count','1 - 2']\n",
        "\n",
        "X=train_dt[cols]\n",
        "y=train_dt['retweet_count_interval']\n",
        "\n",
        "X_train, X_test, y_train, y_test = train_test_split(X, y, test_size=0.3, random_state=0)\n",
        "\n",
        "from sklearn import tree\n",
        "\n",
        "clf2 = tree.DecisionTreeClassifier(max_depth=1)\n",
        "clf2 = clf2.fit(X_train, y_train)\n",
        "\n",
        "print(clf2.score(X_test, y_test))\n",
        "\n",
        "y_pred = clf2.predict(X_test)\n",
        "calculate_error_categorical(y_pred,train_df['retweet_count'],mean)"
      ],
      "execution_count": null,
      "outputs": [
        {
          "output_type": "stream",
          "text": [
            "0.6348543562938709\n"
          ],
          "name": "stdout"
        },
        {
          "output_type": "execute_result",
          "data": {
            "text/plain": [
              "142.80127569667658"
            ]
          },
          "metadata": {
            "tags": []
          },
          "execution_count": 25
        }
      ]
    },
    {
      "cell_type": "code",
      "metadata": {
        "id": "3L1KunSfUyuF"
      },
      "source": [
        "y_pred = clf.predict()\n",
        "#calculate_error_categorical(y_pred,train_df['retweet_count'],mean)"
      ],
      "execution_count": null,
      "outputs": []
    },
    {
      "cell_type": "code",
      "metadata": {
        "id": "Q3gOR3dUWo1-"
      },
      "source": [
        "import csv\n",
        "# Dump the results into a file that follows the required Kaggle template\n",
        "result = pd.DataFrame()\n",
        "result['TweetID'] = eval_df.index\n",
        "result['NoRetweets'] = y_pred\n",
        "with open(\"prediction_decisiontreesimple.txt\", 'w') as f:\n",
        "    writer = csv.writer(f)\n",
        "    writer.writerow([\"TweetID\", \"NoRetweets\"])\n",
        "    for idx, row in result.iterrows():\n",
        "      id = str(row['TweetID'])\n",
        "      num =  str(int(row['NoRetweets']))\n",
        "      writer.writerow([id, num])"
      ],
      "execution_count": null,
      "outputs": []
    },
    {
      "cell_type": "code",
      "metadata": {
        "id": "_3kHcdWZCxb5"
      },
      "source": [
        "Counter(y_eval)"
      ],
      "execution_count": null,
      "outputs": []
    }
  ]
}